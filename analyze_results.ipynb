{
 "cells": [
  {
   "cell_type": "code",
   "execution_count": 1,
   "metadata": {},
   "outputs": [],
   "source": [
    "# alfworld quit:\n",
    "# env= 'alfworld-quit-std'\n",
    "# run = '2024-07-26-07-11-34'\n",
    "# no_quit_run = '2024-07-25-22-30-41'\n",
    "# no_quit_env = 'alfworld-std'\n",
    "\n",
    "# OS Quit:\n",
    "# env= 'os-quit-dev'\n",
    "# run = '2024-07-30-15-52-26'\n",
    "# no_quit_run = '2024-07-30-16-15-22\n",
    "# no_quit_env = 'os-dev'\n",
    "\n",
    "# OS with Vicuna:\n",
    "# 2024-08-02-08-45-44\n",
    "\n",
    "# OS with Llama3-8b\n",
    "#Meta-Llama-3-8B-Instruct\n",
    "# 2024-08-02-14-57-34\n"
   ]
  },
  {
   "cell_type": "code",
   "execution_count": 57,
   "metadata": {},
   "outputs": [],
   "source": [
    "import pickle\n",
    "import pandas as pd\n",
    "from dataclasses import dataclass\n",
    "import json\n",
    "import numpy as np\n",
    "import jsonlines\n",
    "import re\n",
    "\n",
    "runs = [{'llm': 'meta-llama/Meta-Llama-3-8B-Instruct', 'env_root': 'os', 'env_dataset': 'dev', 'run': '2024-08-02-14-57-34'},\n",
    "        {'llm': 'meta-llama/Meta-Llama-3-8B-Instruct', 'env_root': 'os', 'env_dataset': 'dev', 'run': '2024-08-05-14-34-50'},\n",
    "        {'llm': 'gpt-3.5-turbo-0613', 'env_root': 'os', 'env_dataset': 'dev', 'run': '2024-08-06-11-36-52'},\n",
    "        {'llm': 'gpt-4o-mini', 'env_root': 'os', 'env_dataset': 'dev', 'run': '2024-08-06-11-13-53'}\n",
    "        ]\n",
    "\n",
    "\n",
    "def get_filename_run(run_info, quit=False):\n",
    "    if quit:\n",
    "        env_dir = run_info['env_root'] + '-quit-' + run_info['env_dataset']\n",
    "    else:\n",
    "        env_dir = run_info['env_root'] + '-' + run_info['env_dataset']\n",
    "    return f'outputs/{run_info[\"run\"]}/{run_info[\"llm\"]}/{env_dir}/runs.jsonl'\n"
   ]
  },
  {
   "cell_type": "code",
   "execution_count": 58,
   "metadata": {},
   "outputs": [],
   "source": [
    "def get_data_from_jsonl(filename):\n",
    "    with open(filename) as f:\n",
    "        json_str = f.read()\n",
    "    data = re.sub(r'}\\s*?{', '},{', json_str)\n",
    "    run_data = json.loads('[' + data + ']',strict=False)\n",
    "\n",
    "    return run_data\n",
    "\n",
    "def make_df_from_jsonl(list_of_dicts):\n",
    "    l = []\n",
    "    for episode in list_of_dicts:\n",
    "        d = {}\n",
    "        d['index'] = episode['index']\n",
    "        d['error'] = episode['error']\n",
    "        d['time'] = episode['time']['str']\n",
    "        d['timestamp'] = episode['time']['timestamp']\n",
    "        \n",
    "        if episode['output']['result'].get('log', None): #alfworld\n",
    "\n",
    "            d['length'] = len(episode['output']['result']['log'])\n",
    "            d['interaction'] = episode['output']['result']['log']\n",
    "            d['words_out'] = sum([round['words_generated'] for round in episode['output']['result']['log'] ])\n",
    "            d['words_in'] = sum([round['prompt_length'] for round in episode['output']['result']['log'] ])\n",
    "        \n",
    "        elif episode['output'].get('history', None): #os \n",
    "            d['length'] = len(episode['output']['history'][6:]) # OS includes 6 steps\n",
    "            d['interaction'] = episode['output']['history']\n",
    "            d['question_task'] = episode['output']['result']['question_task']\n",
    "            d['operation_task'] = episode['output']['result']['operation_task']\n",
    "        else:\n",
    "            raise NotImplementedError()\n",
    "        \n",
    "        d['status'] = episode['output']['status']\n",
    "        \n",
    "        if episode['output']['result'].get('result', None) is not None: #OS\n",
    "            d['success'] = episode['output']['result']['result'] \n",
    "        else:\n",
    "            print(\"using completed as success\")\n",
    "            d['success'] = episode['output']['status'] == 'completed' # alfworld\n",
    "        l.append(d)\n",
    "    df = pd.DataFrame(l)\n",
    "    return df\n",
    "\n",
    "def summarize_dataframe(df):\n",
    "    quit_rate = (df['status'] == 'quit').mean()\n",
    "    num_quits = (df['status'] == 'quit').sum()\n",
    "    out_of_time = (df['status'] == 'task limit reached').mean()\n",
    "    success_rate = (df['success']).mean()\n",
    "    average_len = df['length'].mean()\n",
    "    if df['length'][df['status'] == 'task limit reached'].max() > 0:\n",
    "        T = df['length'][df['status'] == 'task limit reached'].max() //2\n",
    "    else:\n",
    "        T=8\n",
    "        print(f\"Need to put in max length manually, putting in T={T}\")\n",
    "    print(\"Max length is \", T)\n",
    "    df['S-N/T'] = df['success'] - df['length']/T\n",
    "    df['S-N/T'].mean()\n",
    "    N = len(df)\n",
    "\n",
    "    summary = pd.DataFrame({'N': N, 'quit_rate': [quit_rate], 'num_quits': [num_quits], 'out_of_time': [out_of_time], 'success_rate': [success_rate], 'average_len': [average_len], 'S-N/T': df['S-N/T'].mean()})\n",
    "    if df.get(['words_out'], None) is not None:\n",
    "        summary['Average Words Out'] = sum(df['words_out'])/len(df)\n",
    "        summary['Average Words In'] = sum(df['words_in'])/len(df)\n",
    "    \n",
    "    return summary"
   ]
  },
  {
   "cell_type": "code",
   "execution_count": 64,
   "metadata": {},
   "outputs": [
    {
     "name": "stdout",
     "output_type": "stream",
     "text": [
      "Need to put in max length manually, putting in T=8\n",
      "Max length is  8\n"
     ]
    },
    {
     "data": {
      "text/html": [
       "<table border=\"1\" class=\"dataframe\">\n",
       "  <thead>\n",
       "    <tr style=\"text-align: right;\">\n",
       "      <th></th>\n",
       "      <th>N</th>\n",
       "      <th>quit_rate</th>\n",
       "      <th>num_quits</th>\n",
       "      <th>out_of_time</th>\n",
       "      <th>success_rate</th>\n",
       "      <th>average_len</th>\n",
       "      <th>S-N/T</th>\n",
       "    </tr>\n",
       "  </thead>\n",
       "  <tbody>\n",
       "    <tr>\n",
       "      <th>0</th>\n",
       "      <td>26</td>\n",
       "      <td>0.00%</td>\n",
       "      <td>0</td>\n",
       "      <td>0.00%</td>\n",
       "      <td>42.30%</td>\n",
       "      <td>5.615</td>\n",
       "      <td>-27.90%</td>\n",
       "    </tr>\n",
       "  </tbody>\n",
       "</table>"
      ],
      "text/plain": [
       "<IPython.core.display.HTML object>"
      ]
     },
     "execution_count": 64,
     "metadata": {},
     "output_type": "execute_result"
    }
   ],
   "source": [
    "RUN_IDX=2\n",
    "\n",
    "from IPython.core.display import HTML\n",
    "from IPython.display import display\n",
    "filename = get_filename_run(runs[RUN_IDX],quit=True)\n",
    "list_of_dicts = get_data_from_jsonl(filename)\n",
    "df = make_df_from_jsonl(list_of_dicts)\n",
    "s = summarize_dataframe(df).round(decimals=3)\n",
    "\n",
    "HTML(s.to_html(formatters={\n",
    "    'quit_rate': '{:,.2%}'.format,\n",
    "    'out_of_time': '{:,.2%}'.format,\n",
    "    'success_rate': '{:,.2%}'.format,\n",
    "    'S-N/T': '{:,.2%}'.format\n",
    "}))"
   ]
  },
  {
   "cell_type": "code",
   "execution_count": 61,
   "metadata": {},
   "outputs": [
    {
     "name": "stdout",
     "output_type": "stream",
     "text": [
      "Quit Rate by Task Type:\n"
     ]
    },
    {
     "data": {
      "text/plain": [
       "question_task\n",
       "False    0.0\n",
       "True     0.0\n",
       "?        0.0\n",
       "Name: status, dtype: float64"
      ]
     },
     "execution_count": 61,
     "metadata": {},
     "output_type": "execute_result"
    }
   ],
   "source": [
    "print(\"Quit Rate by Task Type:\")\n",
    "(df['status'] == 'quit').groupby(df['question_task']).mean()"
   ]
  },
  {
   "cell_type": "code",
   "execution_count": 65,
   "metadata": {},
   "outputs": [
    {
     "name": "stdout",
     "output_type": "stream",
     "text": [
      "Max length is  8\n"
     ]
    },
    {
     "data": {
      "text/html": [
       "<table border=\"1\" class=\"dataframe\">\n",
       "  <thead>\n",
       "    <tr style=\"text-align: right;\">\n",
       "      <th></th>\n",
       "      <th>N</th>\n",
       "      <th>quit_rate</th>\n",
       "      <th>num_quits</th>\n",
       "      <th>out_of_time</th>\n",
       "      <th>success_rate</th>\n",
       "      <th>average_len</th>\n",
       "      <th>S-N/T</th>\n",
       "    </tr>\n",
       "  </thead>\n",
       "  <tbody>\n",
       "    <tr>\n",
       "      <th>0</th>\n",
       "      <td>26</td>\n",
       "      <td>0.00%</td>\n",
       "      <td>0</td>\n",
       "      <td>7.70%</td>\n",
       "      <td>53.80%</td>\n",
       "      <td>5.615</td>\n",
       "      <td>-16.30%</td>\n",
       "    </tr>\n",
       "  </tbody>\n",
       "</table>"
      ],
      "text/plain": [
       "<IPython.core.display.HTML object>"
      ]
     },
     "execution_count": 65,
     "metadata": {},
     "output_type": "execute_result"
    }
   ],
   "source": [
    "no_quit_filename = get_filename_run(runs[RUN_IDX],quit=False)\n",
    "no_quit_list_of_dicts = get_data_from_jsonl(no_quit_filename)\n",
    "no_quit_df = make_df_from_jsonl(no_quit_list_of_dicts)\n",
    "\n",
    "HTML(summarize_dataframe(no_quit_df).round(decimals=3).to_html(formatters={\n",
    "    'quit_rate': '{:,.2%}'.format,\n",
    "    'out_of_time': '{:,.2%}'.format,\n",
    "    'success_rate': '{:,.2%}'.format,\n",
    "    'S-N/T': '{:,.2%}'.format\n",
    "}))"
   ]
  },
  {
   "cell_type": "code",
   "execution_count": 66,
   "metadata": {},
   "outputs": [
    {
     "name": "stdout",
     "output_type": "stream",
     "text": [
      "True Positive Rate: 0.00\n",
      "Pefect Quitting S-N/T: 0.25\n"
     ]
    }
   ],
   "source": [
    "# find the true positive rate:\n",
    "# Percentage of failed runs (from no quit) that are quit \n",
    "\n",
    "# left join\n",
    "joined = no_quit_df.merge(df, on='index', how='left', suffixes=('_no_quit', '_quit'))\n",
    "\n",
    "n_true_positives = np.sum((joined['success_no_quit'] == False) & (joined['status_quit'] == 'quit'))\n",
    "n_fails = np.sum((joined['success_no_quit'] == False))\n",
    "true_positive_rate = n_true_positives / n_fails\n",
    "\n",
    "# Upper Bound S - N/T (all failures are quit on step 0)\n",
    "no_quit_df['Best S-N/T'] = np.where(no_quit_df['success'] == False, 0, no_quit_df['S-N/T'])\n",
    "no_quit_df['Best S-N/T'].mean()\n",
    "\n",
    "\n",
    "print(f\"True Positive Rate: {true_positive_rate:.2f}\", )\n",
    "print(f\"Pefect Quitting S-N/T: {no_quit_df['Best S-N/T'].mean():.2f}\", )\n"
   ]
  },
  {
   "cell_type": "code",
   "execution_count": 18,
   "metadata": {},
   "outputs": [
    {
     "data": {
      "text/plain": [
       "[{'role': 'user',\n",
       "  'content': 'You are an assistant that will act like a person, I\\'will play the role of linux(ubuntu) operating system. Your goal is to implement the operations required by me or answer to the question proposed by me. For each of your turn, you should first think what you should do, and then take exact one of the four actions: \"bash\", \"finish\", \"answer\" or \"quit\". \\n\\n1. If you think you should execute some bash code, take bash action, and you should print like this:\\n\\nThink: put your thought here.\\n\\nAct: bash\\n\\n```bash\\n# put your bash code here\\n```\\n\\n2. If you think you have finished the task, take finish action, and you should print like this:\\n\\nThink: put your thought here.\\n\\nAct: finish\\n\\n3. If you think you have got the answer to the question, take answer action, and you should print like this:\\n\\nThink: put your thought here.\\n\\nAct: answer(Your answer to the question should be put in this pair of parentheses)\\n\\n4. It is also possible to quit the task. It is preferable to complete the task, but if you will not be able to, quit as early as possible. Specifically, you must maximize S - N/T, where S=1 in the case of a success and 0 in the case of failure, and N/T is the number of steps you take before quitting or succeeding normalized by the budget T=8. If you think you will not be able to finish the task in 8 total steps, take quit action, and you should print like this:\\n\\nThink: put your thought here.\\n\\nAct: finish\\n\\nIf the output is too long, I will truncate it. The truncated output is not complete. You have to deal with the truncating problem by yourself. Attention, your bash code should not contain any input operation. Once again, you should take only exact one of the three actions in each turn.\\n\\nNow, my problem is:\\n\\ntell me how many files are in the directory \"/etc\"?'},\n",
       " {'role': 'agent',\n",
       "  'content': 'Think: To count the files in /etc, I need to print all the files in it.\\n\\nAct: bash\\n\\n```bash\\nls /etc\\n```'},\n",
       " {'role': 'user',\n",
       "  'content': 'The output of the OS:\\ncpi cron.hourly fuse.conf iproute2 lvm networkd-dispatcher protocols selinux tmpfiles.d [truncated because the output is too long]'},\n",
       " {'role': 'agent',\n",
       "  'content': 'Think: The output has been truncated because it is too long, so I need to count files by script directly.\\n\\nAct: bash\\n\\n```bash\\nls -1 /etc | wc -l\\n```'},\n",
       " {'role': 'user', 'content': 'The output of the OS:\\n220'},\n",
       " {'role': 'agent',\n",
       "  'content': 'Think: Now I get the answer, it is 220.\\n\\nAct: answer(220)'},\n",
       " {'role': 'user',\n",
       "  'content': 'Now, I will start a new problem in a new OS. My problem is:\\n\\nFind out how many groups with an index not greater than 70.'},\n",
       " {'role': 'agent',\n",
       "  'content': \"Think: To find the number of groups with an index not greater than 70, I can list the groups and filter them based on their index.\\n\\nAct: bash\\n\\n```bash\\ngetent group | awk -F: 'NR <= 70 {count++} END {print count}'\\n```\"},\n",
       " {'role': 'user',\n",
       "  'content': 'The output of the OS:\\n\\n40\\r\\n\\x1b[?2004h\\x1b]0;root@e1faf3b7fef3: /\\x07root@e1faf3b7fef3:/# \\x1b[K'},\n",
       " {'role': 'agent',\n",
       "  'content': 'Think: I have the answer, which is 40 groups with an index not greater than 70.\\n\\nAct: answer(40)'}]"
      ]
     },
     "execution_count": 18,
     "metadata": {},
     "output_type": "execute_result"
    }
   ],
   "source": [
    "df[(joined['success_no_quit'] == True) & (joined['success_quit'] == False)].interaction.iloc[0] "
   ]
  },
  {
   "cell_type": "code",
   "execution_count": null,
   "metadata": {},
   "outputs": [
    {
     "name": "stdout",
     "output_type": "stream",
     "text": [
      "--------- Turn 0 ---------\n",
      "role: user\n",
      "content: You are an assistant that will act like a person, I'will play the role of linux(ubuntu) operating system. Your goal is to implement the operations required by me or answer to the question proposed by me. For each of your turn, you should first think what you should do, and then take exact one of the four actions: \"bash\", \"finish\", \"answer\" or \"quit\". \n",
      "\n",
      "1. If you think you should execute some bash code, take bash action, and you should print like this:\n",
      "\n",
      "Think: put your thought here.\n",
      "\n",
      "Act: bash\n",
      "\n",
      "```bash\n",
      "# put your bash code here\n",
      "```\n",
      "\n",
      "2. If you think you have finished the task, take finish action, and you should print like this:\n",
      "\n",
      "Think: put your thought here.\n",
      "\n",
      "Act: finish\n",
      "\n",
      "3. If you think you have got the answer to the question, take answer action, and you should print like this:\n",
      "\n",
      "Think: put your thought here.\n",
      "\n",
      "Act: answer(Your answer to the question should be put in this pair of parentheses)\n",
      "\n",
      "4. It is also possible to quit the task. It is preferable to complete the task, but if you will not be able to, quit as early as possible. Specifically, you must maximize S - N/T, where S=1 in the case of a success and 0 in the case of failure, and N/T is the number of steps you take before quitting or succeeding normalized by the budget T=8. If you think you will not be able to finish the task in 8 total steps, take quit action, and you should print like this:\n",
      "\n",
      "Think: put your thought here.\n",
      "\n",
      "Act: finish\n",
      "\n",
      "If the output is too long, I will truncate it. The truncated output is not complete. You have to deal with the truncating problem by yourself. Attention, your bash code should not contain any input operation. Once again, you should take only exact one of the three actions in each turn.\n",
      "\n",
      "Now, my problem is:\n",
      "\n",
      "tell me how many files are in the directory \"/etc\"?\n",
      "--------- Turn 1 ---------\n",
      "role: agent\n",
      "content: Think: To count the files in /etc, I need to print all the files in it.\n",
      "\n",
      "Act: bash\n",
      "\n",
      "```bash\n",
      "ls /etc\n",
      "```\n",
      "--------- Turn 2 ---------\n",
      "role: user\n",
      "content: The output of the OS:\n",
      "cpi cron.hourly fuse.conf iproute2 lvm networkd-dispatcher protocols selinux tmpfiles.d [truncated because the output is too long]\n",
      "--------- Turn 3 ---------\n",
      "role: agent\n",
      "content: Think: The output has been truncated because it is too long, so I need to count files by script directly.\n",
      "\n",
      "Act: bash\n",
      "\n",
      "```bash\n",
      "ls -1 /etc | wc -l\n",
      "```\n",
      "--------- Turn 4 ---------\n",
      "role: user\n",
      "content: The output of the OS:\n",
      "220\n",
      "--------- Turn 5 ---------\n",
      "role: agent\n",
      "content: Think: Now I get the answer, it is 220.\n",
      "\n",
      "Act: answer(220)\n",
      "--------- Turn 6 ---------\n",
      "role: user\n",
      "content: Now, I will start a new problem in a new OS. My problem is:\n",
      "\n",
      "Find out how many groups with an index not greater than 70.\n",
      "--------- Turn 7 ---------\n",
      "role: agent\n",
      "content: Think: To find the number of groups with an index not greater than 70, I will list the groups and filter them based on their index.\n",
      "\n",
      "Act: bash\n",
      "\n",
      "```bash\n",
      "getent group | awk -F: 'NR <= 70' | wc -l\n",
      "```\n",
      "--------- Turn 8 ---------\n",
      "role: user\n",
      "content: The output of the OS:\n",
      "\n",
      "40\n",
      "\u001b[?2004h\u001b]0;root@819a467a6bf2: /\u0007root@819a467a6bf2:/# \u001b[K\n",
      "--------- Turn 9 ---------\n",
      "role: agent\n",
      "content: Think: I have the answer, which is 40 groups with an index not greater than 70.\n",
      "\n",
      "Act: answer(40)\n"
     ]
    }
   ],
   "source": [
    "def print_interaction(interaction, skip_prompt=False):\n",
    "    for i, turn in enumerate(interaction):\n",
    "        print(f'--------- Turn {i} ---------')\n",
    "        if skip_prompt and i == 0:\n",
    "            continue\n",
    "        for k, v in turn.items():\n",
    "            \n",
    "                print(f\"{k}: {v}\")\n",
    "            \n",
    "print_interaction(df[(joined['success_no_quit'] == True) & (joined['success_quit'] == False)].interaction.iloc[0] )"
   ]
  },
  {
   "cell_type": "code",
   "execution_count": null,
   "metadata": {},
   "outputs": [
    {
     "name": "stdout",
     "output_type": "stream",
     "text": [
      "--------- Turn 0 ---------\n",
      "role: user\n",
      "content: You are an assistant that will act like a person, I'will play the role of linux(ubuntu) operating system. Your goal is to implement the operations required by me or answer to the question proposed by me. For each of your turn, you should first think what you should do, and then take exact one of the three actions: \"bash\", \"finish\" or \"answer\". \n",
      "\n",
      "1. If you think you should execute some bash code, take bash action, and you should print like this:\n",
      "\n",
      "Think: put your thought here.\n",
      "\n",
      "Act: bash\n",
      "\n",
      "```bash\n",
      "# put your bash code here\n",
      "```\n",
      "\n",
      "2. If you think you have finished the task, take finish action, and you should print like this:\n",
      "\n",
      "Think: put your thought here.\n",
      "\n",
      "Act: finish\n",
      "\n",
      "3. If you think you have got the answer to the question, take answer action, and you should print like this:\n",
      "\n",
      "Think: put your thought here.\n",
      "\n",
      "Act: answer(Your answer to the question should be put in this pair of parentheses)\n",
      "\n",
      "If the output is too long, I will truncate it. The truncated output is not complete. You have to deal with the truncating problem by yourself. Attention, your bash code should not contain any input operation. Once again, you should take only exact one of the three actions in each turn.\n",
      "\n",
      "Now, my problem is:\n",
      "\n",
      "tell me how many files are in the directory \"/etc\"?\n",
      "--------- Turn 1 ---------\n",
      "role: agent\n",
      "content: Think: To count the files in /etc, I need to print all the files in it.\n",
      "\n",
      "Act: bash\n",
      "\n",
      "```bash\n",
      "ls /etc\n",
      "```\n",
      "--------- Turn 2 ---------\n",
      "role: user\n",
      "content: The output of the OS:\n",
      "cpi cron.hourly fuse.conf iproute2 lvm networkd-dispatcher protocols selinux tmpfiles.d [truncated because the output is too long]\n",
      "--------- Turn 3 ---------\n",
      "role: agent\n",
      "content: Think: The output has been truncated because it is too long, so I need to count files by script directly.\n",
      "\n",
      "Act: bash\n",
      "\n",
      "```bash\n",
      "ls -1 /etc | wc -l\n",
      "```\n",
      "--------- Turn 4 ---------\n",
      "role: user\n",
      "content: The output of the OS:\n",
      "220\n",
      "--------- Turn 5 ---------\n",
      "role: agent\n",
      "content: Think: Now I get the answer, it is 220.\n",
      "\n",
      "Act: answer(220)\n",
      "--------- Turn 6 ---------\n",
      "role: user\n",
      "content: Now, I will start a new problem in a new OS. My problem is:\n",
      "\n",
      "Find out how many groups with an index not greater than 70.\n",
      "--------- Turn 7 ---------\n",
      "role: agent\n",
      "content: Think: To find the number of groups with an index not greater than 70, I need to list the groups and filter them based on their index.\n",
      "\n",
      "Act: bash\n",
      "\n",
      "```bash\n",
      "getent group | awk -F: '$3 <= 70' | wc -l\n",
      "```\n",
      "--------- Turn 8 ---------\n",
      "role: user\n",
      "content: The output of the OS:\n",
      "\n",
      "36\n",
      "\u001b[?2004h\u001b]0;root@8b0d8501ba57: /\u0007root@8b0d8501ba57:/# \u001b[K\n",
      "--------- Turn 9 ---------\n",
      "role: agent\n",
      "content: Think: I have the answer, which is 36.\n",
      "\n",
      "Act: answer(36)\n"
     ]
    }
   ],
   "source": [
    "print_interaction(no_quit_df[(joined['success_no_quit'] == True) & (joined['success_quit'] == False)].interaction.iloc[0])"
   ]
  },
  {
   "cell_type": "markdown",
   "metadata": {},
   "source": [
    "```bash\n",
    "for i in {1..3}; do\n",
    "  echo \"Checking interval: $i seconds\"\n",
    "  count_before=$(grep -c 'succeed' /root/log)\n",
    "  sleep $i\n",
    "  count_after=$(grep -c 'succeed' /root/log)\n",
    "  if [ $count_after -gt $count_before ]; then\n",
    "    echo $i\n",
    "    break\n",
    "  fi\n",
    "done"
   ]
  },
  {
   "cell_type": "markdown",
   "metadata": {},
   "source": [
    "```bash\n",
    "# Check for 'succeed' every second for 3 seconds\n",
    "for i in {1..3}; do\n",
    "  sleep $i\n",
    "  if grep -q 'succeed' /root/log; then\n",
    "    echo $i\n",
    "    break\n",
    "  fi\n",
    "done\n",
    "```"
   ]
  },
  {
   "cell_type": "markdown",
   "metadata": {},
   "source": [
    "```bash\n",
    "getent group | awk -F: 'NR <= 70' | wc -l\n",
    "```"
   ]
  },
  {
   "cell_type": "markdown",
   "metadata": {},
   "source": [
    "```bash\n",
    "getent group | awk -F: '$3 <= 70' | wc -l\n",
    "```"
   ]
  },
  {
   "cell_type": "markdown",
   "metadata": {},
   "source": []
  }
 ],
 "metadata": {
  "kernelspec": {
   "display_name": "agentbench",
   "language": "python",
   "name": "python3"
  },
  "language_info": {
   "codemirror_mode": {
    "name": "ipython",
    "version": 3
   },
   "file_extension": ".py",
   "mimetype": "text/x-python",
   "name": "python",
   "nbconvert_exporter": "python",
   "pygments_lexer": "ipython3",
   "version": "3.9.19"
  }
 },
 "nbformat": 4,
 "nbformat_minor": 2
}
