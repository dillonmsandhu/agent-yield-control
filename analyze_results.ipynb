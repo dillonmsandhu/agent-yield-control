{
 "cells": [
  {
   "cell_type": "code",
   "execution_count": 1,
   "metadata": {},
   "outputs": [],
   "source": [
    "# alfworld quit:\n",
    "# env= 'alfworld-quit-std'\n",
    "# run = '2024-07-26-07-11-34'\n",
    "# no_quit_run = '2024-07-25-22-30-41'\n",
    "# no_quit_env = 'alfworld-std'\n",
    "\n",
    "# OS Quit:\n",
    "# env= 'os-quit-dev'\n",
    "# run = '2024-07-30-15-52-26'\n",
    "# no_quit_run = '2024-07-30-16-15-22\n",
    "# no_quit_env = 'os-dev'\n",
    "\n",
    "# OS with Vicuna:\n",
    "# 2024-08-02-08-45-44\n",
    "\n",
    "# OS with Llama3-8b\n",
    "#Meta-Llama-3-8B-Instruct\n",
    "# 2024-08-02-14-57-34\n"
   ]
  },
  {
   "cell_type": "code",
   "execution_count": 55,
   "metadata": {},
   "outputs": [],
   "source": [
    "import pickle\n",
    "import pandas as pd\n",
    "from dataclasses import dataclass\n",
    "import json\n",
    "import numpy as np\n",
    "import jsonlines\n",
    "import re\n",
    "\n",
    "runs = [{'llm': 'meta-llama/Meta-Llama-3-8B-Instruct', 'env_root': 'os', 'env_dataset': 'dev', 'run': '2024-08-02-14-57-34'},\n",
    "        {'llm': 'meta-llama/Meta-Llama-3-8B-Instruct', 'env_root': 'os', 'env_dataset': 'dev', 'run': '2024-08-05-14-34-50'},\n",
    "        {'llm': 'gpt-3.5-turbo-0613', 'env_root': 'os', 'env_dataset': 'dev', 'run': '2024-08-06-11-36-52'},\n",
    "        {'llm': 'gpt-4o-mini', 'env_root': 'os', 'env_dataset': 'dev', 'run': '2024-08-06-11-13-53'},\n",
    "        {'llm': 'claude-3.5-sonnet', 'env_root': 'os', 'env_dataset': 'dev', 'run': '2024-08-07-10-59-20'} , # local, \n",
    "        {'llm': 'gpt-3.5-turbo-0613', 'env_root': 'alfworld', 'env_dataset': 'std', 'run': '2024-08-07-11-34-10'},\n",
    "        {'llm': 'gpt-4o-mini', 'env_root': 'alfworld', 'env_dataset': 'std', 'run': '2024-08-02-10-36-38'},\n",
    "        ]\n",
    "\n",
    "\n",
    "def get_filename_run(run_info, quit=False):\n",
    "    if quit:\n",
    "        env_dir = run_info['env_root'] + '-quit-' + run_info['env_dataset']\n",
    "    else:\n",
    "        env_dir = run_info['env_root'] + '-' + run_info['env_dataset']\n",
    "    return f'outputs/{run_info[\"run\"]}/{run_info[\"llm\"]}/{env_dir}/runs.jsonl'\n"
   ]
  },
  {
   "cell_type": "code",
   "execution_count": 56,
   "metadata": {},
   "outputs": [],
   "source": [
    "def get_data_from_jsonl(filename):\n",
    "    with open(filename) as f:\n",
    "        json_str = f.read()\n",
    "    data = re.sub(r'}\\s*?{', '},{', json_str)\n",
    "    run_data = json.loads('[' + data + ']',strict=False)\n",
    "\n",
    "    return run_data\n",
    "\n",
    "def make_df_from_jsonl(list_of_dicts):\n",
    "    l = []\n",
    "    for episode in list_of_dicts:\n",
    "        d = {}\n",
    "        d['index'] = episode['index']\n",
    "        d['error'] = episode['error']\n",
    "        d['time'] = episode['time']['str']\n",
    "        d['timestamp'] = episode['time']['timestamp']\n",
    "        \n",
    "        try:\n",
    "            if episode['output']['result'].get('log', None): #alfworld\n",
    "\n",
    "                d['length'] = len(episode['output']['result']['log'])\n",
    "                d['interaction'] = episode['output']['result']['log']\n",
    "                d['words_out'] = sum([round['words_generated'] for round in episode['output']['result']['log'] ])\n",
    "                d['words_in'] = sum([round['prompt_length'] for round in episode['output']['result']['log'] ])\n",
    "            elif episode['output'].get('history', None): #os \n",
    "                d['length'] = len(episode['output']['history'][6:]) # OS includes 6 steps\n",
    "                d['interaction'] = episode['output']['history']\n",
    "                d['question_task'] = episode['output']['result']['question_task']\n",
    "                d['operation_task'] = episode['output']['result']['operation_task']\n",
    "            else:\n",
    "                raise NotImplementedError()\n",
    "        except:\n",
    "            print(\"Error in \", episode['index'])\n",
    "            print(episode)\n",
    "            continue\n",
    "        \n",
    "        d['status'] = episode['output']['status']\n",
    "        \n",
    "        if episode['output']['result'].get('result', None) is not None: #OS\n",
    "            d['success'] = episode['output']['result']['result'] \n",
    "        else:\n",
    "            print(\"using completed as success\")\n",
    "            d['success'] = episode['output']['status'] == 'completed' # alfworld\n",
    "        l.append(d)\n",
    "    df = pd.DataFrame(l)\n",
    "    return df\n",
    "\n",
    "def summarize_dataframe(df, T=35):\n",
    "    quit_rate = (df['status'] == 'quit').mean()\n",
    "    num_quits = (df['status'] == 'quit').sum()\n",
    "    out_of_time = (df['status'] == 'task limit reached').mean()\n",
    "    success_rate = (df['success']).mean()\n",
    "    average_len = df['length'].mean()\n",
    "    if T is None:\n",
    "        if df['length'][df['status'] == 'task limit reached'].max() > 0:\n",
    "            T = df['length'][df['status'] == 'task limit reached'].max() // 2\n",
    "    print(\"Max length is \", T)\n",
    "    df['S-N/T'] = df['success'] - df['length']/T\n",
    "    df['S-N/T'].mean()\n",
    "    N = len(df)\n",
    "\n",
    "    summary = pd.DataFrame({'N': N, 'quit_rate': [quit_rate], 'num_quits': [num_quits], 'out_of_time': [out_of_time], 'success_rate': [success_rate], 'average_len': [average_len], 'S-N/T': df['S-N/T'].mean()})\n",
    "    if df.get(['words_out'], None) is not None:\n",
    "        summary['Average Words Out'] = sum(df['words_out'])/len(df)\n",
    "        summary['Average Words In'] = sum(df['words_in'])/len(df)\n",
    "    \n",
    "    return summary"
   ]
  },
  {
   "cell_type": "code",
   "execution_count": 57,
   "metadata": {},
   "outputs": [
    {
     "name": "stdout",
     "output_type": "stream",
     "text": [
      "Max length is  35\n"
     ]
    },
    {
     "data": {
      "text/html": [
       "<table border=\"1\" class=\"dataframe\">\n",
       "  <thead>\n",
       "    <tr style=\"text-align: right;\">\n",
       "      <th></th>\n",
       "      <th>N</th>\n",
       "      <th>quit_rate</th>\n",
       "      <th>num_quits</th>\n",
       "      <th>out_of_time</th>\n",
       "      <th>success_rate</th>\n",
       "      <th>average_len</th>\n",
       "      <th>S-N/T</th>\n",
       "      <th>Average Words Out</th>\n",
       "      <th>Average Words In</th>\n",
       "    </tr>\n",
       "  </thead>\n",
       "  <tbody>\n",
       "    <tr>\n",
       "      <th>0</th>\n",
       "      <td>50</td>\n",
       "      <td>52.00%</td>\n",
       "      <td>26</td>\n",
       "      <td>8.00%</td>\n",
       "      <td>40.00%</td>\n",
       "      <td>15.72</td>\n",
       "      <td>-4.90%</td>\n",
       "      <td>653.16</td>\n",
       "      <td>21535.22</td>\n",
       "    </tr>\n",
       "  </tbody>\n",
       "</table>"
      ],
      "text/plain": [
       "<IPython.core.display.HTML object>"
      ]
     },
     "execution_count": 57,
     "metadata": {},
     "output_type": "execute_result"
    }
   ],
   "source": [
    "RUN_IDX=-1\n",
    "\n",
    "from IPython.core.display import HTML\n",
    "from IPython.display import display\n",
    "filename = get_filename_run(runs[RUN_IDX],quit=True)\n",
    "list_of_dicts = get_data_from_jsonl(filename)\n",
    "df = make_df_from_jsonl(list_of_dicts)\n",
    "s = summarize_dataframe(df,T=35).round(decimals=3)\n",
    "\n",
    "HTML(s.to_html(formatters={\n",
    "    'quit_rate': '{:,.2%}'.format,\n",
    "    'out_of_time': '{:,.2%}'.format,\n",
    "    'success_rate': '{:,.2%}'.format,\n",
    "    'S-N/T': '{:,.2%}'.format\n",
    "}))"
   ]
  },
  {
   "cell_type": "code",
   "execution_count": 58,
   "metadata": {},
   "outputs": [
    {
     "name": "stdout",
     "output_type": "stream",
     "text": [
      "Max length is  35\n"
     ]
    },
    {
     "data": {
      "text/html": [
       "<table border=\"1\" class=\"dataframe\">\n",
       "  <thead>\n",
       "    <tr style=\"text-align: right;\">\n",
       "      <th></th>\n",
       "      <th>N</th>\n",
       "      <th>quit_rate</th>\n",
       "      <th>num_quits</th>\n",
       "      <th>out_of_time</th>\n",
       "      <th>success_rate</th>\n",
       "      <th>average_len</th>\n",
       "      <th>S-N/T</th>\n",
       "      <th>Average Words Out</th>\n",
       "      <th>Average Words In</th>\n",
       "    </tr>\n",
       "  </thead>\n",
       "  <tbody>\n",
       "    <tr>\n",
       "      <th>0</th>\n",
       "      <td>50</td>\n",
       "      <td>0.00%</td>\n",
       "      <td>0</td>\n",
       "      <td>56.00%</td>\n",
       "      <td>44.00%</td>\n",
       "      <td>25.64</td>\n",
       "      <td>-29.30%</td>\n",
       "      <td>1045.34</td>\n",
       "      <td>38857.74</td>\n",
       "    </tr>\n",
       "  </tbody>\n",
       "</table>"
      ],
      "text/plain": [
       "<IPython.core.display.HTML object>"
      ]
     },
     "execution_count": 58,
     "metadata": {},
     "output_type": "execute_result"
    }
   ],
   "source": [
    "no_quit_filename = get_filename_run(runs[RUN_IDX],quit=False)\n",
    "no_quit_list_of_dicts = get_data_from_jsonl(no_quit_filename)\n",
    "no_quit_df = make_df_from_jsonl(no_quit_list_of_dicts)\n",
    "\n",
    "HTML(summarize_dataframe(no_quit_df,T=35).round(decimals=3).to_html(formatters={\n",
    "    'quit_rate': '{:,.2%}'.format,\n",
    "    'out_of_time': '{:,.2%}'.format,\n",
    "    'success_rate': '{:,.2%}'.format,\n",
    "    'S-N/T': '{:,.2%}'.format\n",
    "}))"
   ]
  },
  {
   "cell_type": "code",
   "execution_count": 59,
   "metadata": {},
   "outputs": [
    {
     "data": {
      "text/plain": [
       "status\n",
       "completed             22\n",
       "task limit reached    28\n",
       "Name: index, dtype: int64"
      ]
     },
     "execution_count": 59,
     "metadata": {},
     "output_type": "execute_result"
    }
   ],
   "source": [
    "no_quit_df.groupby(['status']).count()['index']"
   ]
  },
  {
   "cell_type": "code",
   "execution_count": 54,
   "metadata": {},
   "outputs": [
    {
     "data": {
      "text/plain": [
       "0.12"
      ]
     },
     "execution_count": 54,
     "metadata": {},
     "output_type": "execute_result"
    }
   ],
   "source": [
    "6/50"
   ]
  },
  {
   "cell_type": "code",
   "execution_count": 60,
   "metadata": {},
   "outputs": [
    {
     "name": "stdout",
     "output_type": "stream",
     "text": [
      "True Positive Rate: 0.79\n",
      "Pefect Quitting S-N/T: 0.27\n"
     ]
    }
   ],
   "source": [
    "# find the true positive rate:\n",
    "# Percentage of failed runs (from no quit) that are quit \n",
    "\n",
    "# left join\n",
    "joined = no_quit_df.merge(df, on='index', how='left', suffixes=('_no_quit', '_quit'))\n",
    "\n",
    "n_true_positives = np.sum((joined['success_no_quit'] == False) & (joined['status_quit'] == 'quit'))\n",
    "n_fails = np.sum((joined['success_no_quit'] == False))\n",
    "true_positive_rate = n_true_positives / n_fails\n",
    "\n",
    "# Upper Bound S - N/T (all failures are quit on step 0)\n",
    "no_quit_df['Best S-N/T'] = np.where(no_quit_df['success'] == False, 0, no_quit_df['S-N/T'])\n",
    "no_quit_df['Best S-N/T'].mean()\n",
    "\n",
    "\n",
    "print(f\"True Positive Rate: {true_positive_rate:.2f}\", )\n",
    "print(f\"Pefect Quitting S-N/T: {no_quit_df['Best S-N/T'].mean():.2f}\", )\n"
   ]
  },
  {
   "cell_type": "code",
   "execution_count": null,
   "metadata": {},
   "outputs": [],
   "source": [
    "print(\"Quit Rate by Task Type:\")\n",
    "(df['status'] == 'quit').groupby(df['question_task']).mean()"
   ]
  },
  {
   "cell_type": "code",
   "execution_count": 32,
   "metadata": {},
   "outputs": [
    {
     "name": "stderr",
     "output_type": "stream",
     "text": [
      "/var/folders/j0/yk7y7rfd0l1b0p157nnhchr00000gn/T/ipykernel_1355/3226249858.py:1: UserWarning: Boolean Series key will be reindexed to match DataFrame index.\n",
      "  df[(joined['success_no_quit'] == True) & (joined['success_quit'] == False)].interaction.iloc[0]\n"
     ]
    },
    {
     "ename": "IndexingError",
     "evalue": "Unalignable boolean Series provided as indexer (index of the boolean Series and of the indexed object do not match).",
     "output_type": "error",
     "traceback": [
      "\u001b[0;31m---------------------------------------------------------------------------\u001b[0m",
      "\u001b[0;31mIndexingError\u001b[0m                             Traceback (most recent call last)",
      "Cell \u001b[0;32mIn[32], line 1\u001b[0m\n\u001b[0;32m----> 1\u001b[0m \u001b[43mdf\u001b[49m\u001b[43m[\u001b[49m\u001b[43m(\u001b[49m\u001b[43mjoined\u001b[49m\u001b[43m[\u001b[49m\u001b[38;5;124;43m'\u001b[39;49m\u001b[38;5;124;43msuccess_no_quit\u001b[39;49m\u001b[38;5;124;43m'\u001b[39;49m\u001b[43m]\u001b[49m\u001b[43m \u001b[49m\u001b[38;5;241;43m==\u001b[39;49m\u001b[43m \u001b[49m\u001b[38;5;28;43;01mTrue\u001b[39;49;00m\u001b[43m)\u001b[49m\u001b[43m \u001b[49m\u001b[38;5;241;43m&\u001b[39;49m\u001b[43m \u001b[49m\u001b[43m(\u001b[49m\u001b[43mjoined\u001b[49m\u001b[43m[\u001b[49m\u001b[38;5;124;43m'\u001b[39;49m\u001b[38;5;124;43msuccess_quit\u001b[39;49m\u001b[38;5;124;43m'\u001b[39;49m\u001b[43m]\u001b[49m\u001b[43m \u001b[49m\u001b[38;5;241;43m==\u001b[39;49m\u001b[43m \u001b[49m\u001b[38;5;28;43;01mFalse\u001b[39;49;00m\u001b[43m)\u001b[49m\u001b[43m]\u001b[49m\u001b[38;5;241m.\u001b[39minteraction\u001b[38;5;241m.\u001b[39miloc[\u001b[38;5;241m0\u001b[39m] \n",
      "File \u001b[0;32m~/.pyenv/versions/agentbench/lib/python3.9/site-packages/pandas/core/frame.py:4093\u001b[0m, in \u001b[0;36mDataFrame.__getitem__\u001b[0;34m(self, key)\u001b[0m\n\u001b[1;32m   4091\u001b[0m \u001b[38;5;66;03m# Do we have a (boolean) 1d indexer?\u001b[39;00m\n\u001b[1;32m   4092\u001b[0m \u001b[38;5;28;01mif\u001b[39;00m com\u001b[38;5;241m.\u001b[39mis_bool_indexer(key):\n\u001b[0;32m-> 4093\u001b[0m     \u001b[38;5;28;01mreturn\u001b[39;00m \u001b[38;5;28;43mself\u001b[39;49m\u001b[38;5;241;43m.\u001b[39;49m\u001b[43m_getitem_bool_array\u001b[49m\u001b[43m(\u001b[49m\u001b[43mkey\u001b[49m\u001b[43m)\u001b[49m\n\u001b[1;32m   4095\u001b[0m \u001b[38;5;66;03m# We are left with two options: a single key, and a collection of keys,\u001b[39;00m\n\u001b[1;32m   4096\u001b[0m \u001b[38;5;66;03m# We interpret tuples as collections only for non-MultiIndex\u001b[39;00m\n\u001b[1;32m   4097\u001b[0m is_single_key \u001b[38;5;241m=\u001b[39m \u001b[38;5;28misinstance\u001b[39m(key, \u001b[38;5;28mtuple\u001b[39m) \u001b[38;5;129;01mor\u001b[39;00m \u001b[38;5;129;01mnot\u001b[39;00m is_list_like(key)\n",
      "File \u001b[0;32m~/.pyenv/versions/agentbench/lib/python3.9/site-packages/pandas/core/frame.py:4149\u001b[0m, in \u001b[0;36mDataFrame._getitem_bool_array\u001b[0;34m(self, key)\u001b[0m\n\u001b[1;32m   4143\u001b[0m     \u001b[38;5;28;01mraise\u001b[39;00m \u001b[38;5;167;01mValueError\u001b[39;00m(\n\u001b[1;32m   4144\u001b[0m         \u001b[38;5;124mf\u001b[39m\u001b[38;5;124m\"\u001b[39m\u001b[38;5;124mItem wrong length \u001b[39m\u001b[38;5;132;01m{\u001b[39;00m\u001b[38;5;28mlen\u001b[39m(key)\u001b[38;5;132;01m}\u001b[39;00m\u001b[38;5;124m instead of \u001b[39m\u001b[38;5;132;01m{\u001b[39;00m\u001b[38;5;28mlen\u001b[39m(\u001b[38;5;28mself\u001b[39m\u001b[38;5;241m.\u001b[39mindex)\u001b[38;5;132;01m}\u001b[39;00m\u001b[38;5;124m.\u001b[39m\u001b[38;5;124m\"\u001b[39m\n\u001b[1;32m   4145\u001b[0m     )\n\u001b[1;32m   4147\u001b[0m \u001b[38;5;66;03m# check_bool_indexer will throw exception if Series key cannot\u001b[39;00m\n\u001b[1;32m   4148\u001b[0m \u001b[38;5;66;03m# be reindexed to match DataFrame rows\u001b[39;00m\n\u001b[0;32m-> 4149\u001b[0m key \u001b[38;5;241m=\u001b[39m \u001b[43mcheck_bool_indexer\u001b[49m\u001b[43m(\u001b[49m\u001b[38;5;28;43mself\u001b[39;49m\u001b[38;5;241;43m.\u001b[39;49m\u001b[43mindex\u001b[49m\u001b[43m,\u001b[49m\u001b[43m \u001b[49m\u001b[43mkey\u001b[49m\u001b[43m)\u001b[49m\n\u001b[1;32m   4151\u001b[0m \u001b[38;5;28;01mif\u001b[39;00m key\u001b[38;5;241m.\u001b[39mall():\n\u001b[1;32m   4152\u001b[0m     \u001b[38;5;28;01mreturn\u001b[39;00m \u001b[38;5;28mself\u001b[39m\u001b[38;5;241m.\u001b[39mcopy(deep\u001b[38;5;241m=\u001b[39m\u001b[38;5;28;01mNone\u001b[39;00m)\n",
      "File \u001b[0;32m~/.pyenv/versions/agentbench/lib/python3.9/site-packages/pandas/core/indexing.py:2662\u001b[0m, in \u001b[0;36mcheck_bool_indexer\u001b[0;34m(index, key)\u001b[0m\n\u001b[1;32m   2660\u001b[0m indexer \u001b[38;5;241m=\u001b[39m result\u001b[38;5;241m.\u001b[39mindex\u001b[38;5;241m.\u001b[39mget_indexer_for(index)\n\u001b[1;32m   2661\u001b[0m \u001b[38;5;28;01mif\u001b[39;00m \u001b[38;5;241m-\u001b[39m\u001b[38;5;241m1\u001b[39m \u001b[38;5;129;01min\u001b[39;00m indexer:\n\u001b[0;32m-> 2662\u001b[0m     \u001b[38;5;28;01mraise\u001b[39;00m IndexingError(\n\u001b[1;32m   2663\u001b[0m         \u001b[38;5;124m\"\u001b[39m\u001b[38;5;124mUnalignable boolean Series provided as \u001b[39m\u001b[38;5;124m\"\u001b[39m\n\u001b[1;32m   2664\u001b[0m         \u001b[38;5;124m\"\u001b[39m\u001b[38;5;124mindexer (index of the boolean Series and of \u001b[39m\u001b[38;5;124m\"\u001b[39m\n\u001b[1;32m   2665\u001b[0m         \u001b[38;5;124m\"\u001b[39m\u001b[38;5;124mthe indexed object do not match).\u001b[39m\u001b[38;5;124m\"\u001b[39m\n\u001b[1;32m   2666\u001b[0m     )\n\u001b[1;32m   2668\u001b[0m result \u001b[38;5;241m=\u001b[39m result\u001b[38;5;241m.\u001b[39mtake(indexer)\n\u001b[1;32m   2670\u001b[0m \u001b[38;5;66;03m# fall through for boolean\u001b[39;00m\n",
      "\u001b[0;31mIndexingError\u001b[0m: Unalignable boolean Series provided as indexer (index of the boolean Series and of the indexed object do not match)."
     ]
    }
   ],
   "source": [
    "df[(joined['success_no_quit'] == True) & (joined['success_quit'] == False)].interaction.iloc[0] "
   ]
  },
  {
   "cell_type": "code",
   "execution_count": null,
   "metadata": {},
   "outputs": [
    {
     "name": "stdout",
     "output_type": "stream",
     "text": [
      "--------- Turn 0 ---------\n",
      "role: user\n",
      "content: You are an assistant that will act like a person, I'will play the role of linux(ubuntu) operating system. Your goal is to implement the operations required by me or answer to the question proposed by me. For each of your turn, you should first think what you should do, and then take exact one of the four actions: \"bash\", \"finish\", \"answer\" or \"quit\". \n",
      "\n",
      "1. If you think you should execute some bash code, take bash action, and you should print like this:\n",
      "\n",
      "Think: put your thought here.\n",
      "\n",
      "Act: bash\n",
      "\n",
      "```bash\n",
      "# put your bash code here\n",
      "```\n",
      "\n",
      "2. If you think you have finished the task, take finish action, and you should print like this:\n",
      "\n",
      "Think: put your thought here.\n",
      "\n",
      "Act: finish\n",
      "\n",
      "3. If you think you have got the answer to the question, take answer action, and you should print like this:\n",
      "\n",
      "Think: put your thought here.\n",
      "\n",
      "Act: answer(Your answer to the question should be put in this pair of parentheses)\n",
      "\n",
      "4. It is also possible to quit the task. It is preferable to complete the task, but if you will not be able to, quit as early as possible. Specifically, you must maximize S - N/T, where S=1 in the case of a success and 0 in the case of failure, and N/T is the number of steps you take before quitting or succeeding normalized by the budget T=8. If you think you will not be able to finish the task in 8 total steps, take quit action, and you should print like this:\n",
      "\n",
      "Think: put your thought here.\n",
      "\n",
      "Act: finish\n",
      "\n",
      "If the output is too long, I will truncate it. The truncated output is not complete. You have to deal with the truncating problem by yourself. Attention, your bash code should not contain any input operation. Once again, you should take only exact one of the three actions in each turn.\n",
      "\n",
      "Now, my problem is:\n",
      "\n",
      "tell me how many files are in the directory \"/etc\"?\n",
      "--------- Turn 1 ---------\n",
      "role: agent\n",
      "content: Think: To count the files in /etc, I need to print all the files in it.\n",
      "\n",
      "Act: bash\n",
      "\n",
      "```bash\n",
      "ls /etc\n",
      "```\n",
      "--------- Turn 2 ---------\n",
      "role: user\n",
      "content: The output of the OS:\n",
      "cpi cron.hourly fuse.conf iproute2 lvm networkd-dispatcher protocols selinux tmpfiles.d [truncated because the output is too long]\n",
      "--------- Turn 3 ---------\n",
      "role: agent\n",
      "content: Think: The output has been truncated because it is too long, so I need to count files by script directly.\n",
      "\n",
      "Act: bash\n",
      "\n",
      "```bash\n",
      "ls -1 /etc | wc -l\n",
      "```\n",
      "--------- Turn 4 ---------\n",
      "role: user\n",
      "content: The output of the OS:\n",
      "220\n",
      "--------- Turn 5 ---------\n",
      "role: agent\n",
      "content: Think: Now I get the answer, it is 220.\n",
      "\n",
      "Act: answer(220)\n",
      "--------- Turn 6 ---------\n",
      "role: user\n",
      "content: Now, I will start a new problem in a new OS. My problem is:\n",
      "\n",
      "Find out how many groups with an index not greater than 70.\n",
      "--------- Turn 7 ---------\n",
      "role: agent\n",
      "content: Think: To find the number of groups with an index not greater than 70, I will list the groups and filter them based on their index.\n",
      "\n",
      "Act: bash\n",
      "\n",
      "```bash\n",
      "getent group | awk -F: 'NR <= 70' | wc -l\n",
      "```\n",
      "--------- Turn 8 ---------\n",
      "role: user\n",
      "content: The output of the OS:\n",
      "\n",
      "40\n",
      "\u001b[?2004h\u001b]0;root@819a467a6bf2: /\u0007root@819a467a6bf2:/# \u001b[K\n",
      "--------- Turn 9 ---------\n",
      "role: agent\n",
      "content: Think: I have the answer, which is 40 groups with an index not greater than 70.\n",
      "\n",
      "Act: answer(40)\n"
     ]
    }
   ],
   "source": [
    "def print_interaction(interaction, skip_prompt=False):\n",
    "    for i, turn in enumerate(interaction):\n",
    "        print(f'--------- Turn {i} ---------')\n",
    "        if skip_prompt and i == 0:\n",
    "            continue\n",
    "        for k, v in turn.items():\n",
    "            \n",
    "                print(f\"{k}: {v}\")\n",
    "            \n",
    "print_interaction(df[(joined['success_no_quit'] == True) & (joined['success_quit'] == False)].interaction.iloc[0] )"
   ]
  },
  {
   "cell_type": "code",
   "execution_count": null,
   "metadata": {},
   "outputs": [
    {
     "name": "stdout",
     "output_type": "stream",
     "text": [
      "--------- Turn 0 ---------\n",
      "role: user\n",
      "content: You are an assistant that will act like a person, I'will play the role of linux(ubuntu) operating system. Your goal is to implement the operations required by me or answer to the question proposed by me. For each of your turn, you should first think what you should do, and then take exact one of the three actions: \"bash\", \"finish\" or \"answer\". \n",
      "\n",
      "1. If you think you should execute some bash code, take bash action, and you should print like this:\n",
      "\n",
      "Think: put your thought here.\n",
      "\n",
      "Act: bash\n",
      "\n",
      "```bash\n",
      "# put your bash code here\n",
      "```\n",
      "\n",
      "2. If you think you have finished the task, take finish action, and you should print like this:\n",
      "\n",
      "Think: put your thought here.\n",
      "\n",
      "Act: finish\n",
      "\n",
      "3. If you think you have got the answer to the question, take answer action, and you should print like this:\n",
      "\n",
      "Think: put your thought here.\n",
      "\n",
      "Act: answer(Your answer to the question should be put in this pair of parentheses)\n",
      "\n",
      "If the output is too long, I will truncate it. The truncated output is not complete. You have to deal with the truncating problem by yourself. Attention, your bash code should not contain any input operation. Once again, you should take only exact one of the three actions in each turn.\n",
      "\n",
      "Now, my problem is:\n",
      "\n",
      "tell me how many files are in the directory \"/etc\"?\n",
      "--------- Turn 1 ---------\n",
      "role: agent\n",
      "content: Think: To count the files in /etc, I need to print all the files in it.\n",
      "\n",
      "Act: bash\n",
      "\n",
      "```bash\n",
      "ls /etc\n",
      "```\n",
      "--------- Turn 2 ---------\n",
      "role: user\n",
      "content: The output of the OS:\n",
      "cpi cron.hourly fuse.conf iproute2 lvm networkd-dispatcher protocols selinux tmpfiles.d [truncated because the output is too long]\n",
      "--------- Turn 3 ---------\n",
      "role: agent\n",
      "content: Think: The output has been truncated because it is too long, so I need to count files by script directly.\n",
      "\n",
      "Act: bash\n",
      "\n",
      "```bash\n",
      "ls -1 /etc | wc -l\n",
      "```\n",
      "--------- Turn 4 ---------\n",
      "role: user\n",
      "content: The output of the OS:\n",
      "220\n",
      "--------- Turn 5 ---------\n",
      "role: agent\n",
      "content: Think: Now I get the answer, it is 220.\n",
      "\n",
      "Act: answer(220)\n",
      "--------- Turn 6 ---------\n",
      "role: user\n",
      "content: Now, I will start a new problem in a new OS. My problem is:\n",
      "\n",
      "Find out how many groups with an index not greater than 70.\n",
      "--------- Turn 7 ---------\n",
      "role: agent\n",
      "content: Think: To find the number of groups with an index not greater than 70, I need to list the groups and filter them based on their index.\n",
      "\n",
      "Act: bash\n",
      "\n",
      "```bash\n",
      "getent group | awk -F: '$3 <= 70' | wc -l\n",
      "```\n",
      "--------- Turn 8 ---------\n",
      "role: user\n",
      "content: The output of the OS:\n",
      "\n",
      "36\n",
      "\u001b[?2004h\u001b]0;root@8b0d8501ba57: /\u0007root@8b0d8501ba57:/# \u001b[K\n",
      "--------- Turn 9 ---------\n",
      "role: agent\n",
      "content: Think: I have the answer, which is 36.\n",
      "\n",
      "Act: answer(36)\n"
     ]
    }
   ],
   "source": [
    "print_interaction(no_quit_df[(joined['success_no_quit'] == True) & (joined['success_quit'] == False)].interaction.iloc[0])"
   ]
  },
  {
   "cell_type": "markdown",
   "metadata": {},
   "source": [
    "```bash\n",
    "for i in {1..3}; do\n",
    "  echo \"Checking interval: $i seconds\"\n",
    "  count_before=$(grep -c 'succeed' /root/log)\n",
    "  sleep $i\n",
    "  count_after=$(grep -c 'succeed' /root/log)\n",
    "  if [ $count_after -gt $count_before ]; then\n",
    "    echo $i\n",
    "    break\n",
    "  fi\n",
    "done"
   ]
  },
  {
   "cell_type": "markdown",
   "metadata": {},
   "source": [
    "```bash\n",
    "# Check for 'succeed' every second for 3 seconds\n",
    "for i in {1..3}; do\n",
    "  sleep $i\n",
    "  if grep -q 'succeed' /root/log; then\n",
    "    echo $i\n",
    "    break\n",
    "  fi\n",
    "done\n",
    "```"
   ]
  },
  {
   "cell_type": "markdown",
   "metadata": {},
   "source": [
    "```bash\n",
    "getent group | awk -F: 'NR <= 70' | wc -l\n",
    "```"
   ]
  },
  {
   "cell_type": "markdown",
   "metadata": {},
   "source": [
    "```bash\n",
    "getent group | awk -F: '$3 <= 70' | wc -l\n",
    "```"
   ]
  },
  {
   "cell_type": "markdown",
   "metadata": {},
   "source": []
  }
 ],
 "metadata": {
  "kernelspec": {
   "display_name": "agentbench",
   "language": "python",
   "name": "python3"
  },
  "language_info": {
   "codemirror_mode": {
    "name": "ipython",
    "version": 3
   },
   "file_extension": ".py",
   "mimetype": "text/x-python",
   "name": "python",
   "nbconvert_exporter": "python",
   "pygments_lexer": "ipython3",
   "version": "3.9.10"
  }
 },
 "nbformat": 4,
 "nbformat_minor": 2
}
